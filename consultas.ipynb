{
 "metadata": {
  "language_info": {
   "codemirror_mode": {
    "name": "ipython",
    "version": 3
   },
   "file_extension": ".py",
   "mimetype": "text/x-python",
   "name": "python",
   "nbconvert_exporter": "python",
   "pygments_lexer": "ipython3",
   "version": "3.8.2-final"
  },
  "orig_nbformat": 2,
  "kernelspec": {
   "name": "python3",
   "display_name": "Python 3"
  }
 },
 "nbformat": 4,
 "nbformat_minor": 2,
 "cells": [
  {
   "source": [
    "# Consultas "
   ],
   "cell_type": "markdown",
   "metadata": {}
  },
  {
   "source": [
    "## Líbrerías a ocupar "
   ],
   "cell_type": "markdown",
   "metadata": {}
  },
  {
   "cell_type": "code",
   "execution_count": 1,
   "metadata": {},
   "outputs": [],
   "source": [
    "import numpy as np\n",
    "import pandas as pd"
   ]
  },
  {
   "cell_type": "code",
   "execution_count": 10,
   "metadata": {},
   "outputs": [],
   "source": [
    "comunas = pd.read_csv(\"data/comunas.csv\")\n",
    "plebiscitoAR = pd.read_csv(\"data/Plebiscito Apruebo-Rechazo.csv\", sep=\";\", decimal=\",\")\n",
    "\n",
    "plebiscitoC = pd.read_csv(\"data/Plebiscito convención.csv\", sep=\";\", decimal=\",\")\n",
    "presidencial1ra = pd.read_csv(\"data/resultadosPresidencial1era.csv\")\n",
    "presidencial2da = pd.read_csv(\"data/resultadosPresidencial2da.csv\")\n",
    "candidatos1era = list(presidencial1ra.columns)[1:]\n",
    "piniera = candidatos1era.index('Sebastian Piniera Echenique')"
   ]
  },
  {
   "cell_type": "code",
   "execution_count": 31,
   "metadata": {},
   "outputs": [
    {
     "output_type": "execute_result",
     "data": {
      "text/plain": [
       "0      0.700\n",
       "1      0.883\n",
       "2      0.750\n",
       "3      0.866\n",
       "4      0.826\n",
       "       ...  \n",
       "340    0.329\n",
       "341    0.699\n",
       "342    0.709\n",
       "343    0.769\n",
       "344    0.664\n",
       "Name: Porcentaje Apruebo, Length: 345, dtype: float64"
      ]
     },
     "metadata": {},
     "execution_count": 31
    }
   ],
   "source": [
    "plebiscitoAR[\"Porcentaje Apruebo\"]"
   ]
  },
  {
   "cell_type": "code",
   "execution_count": 35,
   "metadata": {},
   "outputs": [
    {
     "output_type": "execute_result",
     "data": {
      "text/plain": [
       "{0, 2, 3, 4}"
      ]
     },
     "metadata": {},
     "execution_count": 35
    }
   ],
   "source": []
  },
  {
   "cell_type": "code",
   "execution_count": null,
   "metadata": {},
   "outputs": [],
   "source": []
  }
 ]
}