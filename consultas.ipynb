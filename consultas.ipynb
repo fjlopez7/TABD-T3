{
 "metadata": {
  "language_info": {
   "codemirror_mode": {
    "name": "ipython",
    "version": 3
   },
   "file_extension": ".py",
   "mimetype": "text/x-python",
   "name": "python",
   "nbconvert_exporter": "python",
   "pygments_lexer": "ipython3",
   "version": "3.8.2-final"
  },
  "orig_nbformat": 2,
  "kernelspec": {
   "name": "python3",
   "display_name": "Python 3"
  }
 },
 "nbformat": 4,
 "nbformat_minor": 2,
 "cells": [
  {
   "source": [
    "# Consultas "
   ],
   "cell_type": "markdown",
   "metadata": {}
  },
  {
   "source": [
    "## Líbrerías a ocupar "
   ],
   "cell_type": "markdown",
   "metadata": {}
  },
  {
   "cell_type": "code",
   "execution_count": 2,
   "metadata": {},
   "outputs": [],
   "source": [
    "import numpy as np\n",
    "import pandas as pd"
   ]
  },
  {
   "cell_type": "code",
   "execution_count": 9,
   "metadata": {},
   "outputs": [],
   "source": [
    "plebiscitoAR = pd.read_csv(\"data/Plebiscito Apruebo-Rechazo.csv\", sep=\";\", decimal=\",\")\n",
    "plebiscitoC = pd.read_csv(\"data/Plebiscito convención.csv\", sep=\";\", decimal=\",\")\n",
    "presidencial = pd.read_csv(\"data/resultadosComuna.csv\", sep=\";\", decimal=\",\")"
   ]
  },
  {
   "cell_type": "code",
   "execution_count": null,
   "metadata": {},
   "outputs": [],
   "source": []
  }
 ]
}