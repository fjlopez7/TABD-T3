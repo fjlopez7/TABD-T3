{
 "metadata": {
  "language_info": {
   "codemirror_mode": {
    "name": "ipython",
    "version": 3
   },
   "file_extension": ".py",
   "mimetype": "text/x-python",
   "name": "python",
   "nbconvert_exporter": "python",
   "pygments_lexer": "ipython3",
   "version": "3.8.2-final"
  },
  "orig_nbformat": 2,
  "kernelspec": {
   "name": "python3",
   "display_name": "Python 3"
  }
 },
 "nbformat": 4,
 "nbformat_minor": 2,
 "cells": [
  {
   "source": [
    "# Consultas "
   ],
   "cell_type": "markdown",
   "metadata": {}
  },
  {
   "source": [
    "## Líbrerías a ocupar "
   ],
   "cell_type": "markdown",
   "metadata": {}
  },
  {
   "cell_type": "code",
   "execution_count": 3,
   "metadata": {},
   "outputs": [],
   "source": [
    "import numpy as np\n",
    "import pandas as pd\n",
    "from datetime import datetime"
   ]
  },
  {
   "cell_type": "code",
   "execution_count": 4,
   "metadata": {},
   "outputs": [],
   "source": [
    "comunas = pd.read_csv(\"data/comunas.csv\")\n",
    "plebiscitoAR = pd.read_csv(\"data/Plebiscito Apruebo-Rechazo.csv\", sep=\";\", decimal=\",\")\n",
    "\n",
    "plebiscitoC = pd.read_csv(\"data/Plebiscito convención.csv\", sep=\";\", decimal=\",\")\n",
    "presidencial1ra = pd.read_csv(\"data/resultadosPresidencial1era.csv\")\n",
    "presidencial2da = pd.read_csv(\"data/resultadosPresidencial2da.csv\")\n",
    "\n",
    "ingresos = pd.read_csv(\"data/porcentajePobreza.csv\")\n",
    "candidatos1era = list(presidencial1ra.columns)[1:]\n",
    "candidatos2da = list(presidencial2da.columns)[1:]\n",
    "piniera1era = candidatos1era.index('Sebastian Piniera Echenique')\n",
    "piniera2da = candidatos2da.index('Sebastian Piniera Echenique')"
   ]
  },
  {
   "source": [
    "## Cálculo del peso de votar por piñera en el apruebo"
   ],
   "cell_type": "markdown",
   "metadata": {}
  },
  {
   "cell_type": "code",
   "execution_count": 5,
   "metadata": {
    "tags": []
   },
   "outputs": [
    {
     "output_type": "execute_result",
     "data": {
      "text/plain": [
       "            Comuna  Apruebo (1)  Rechazo (0)  Ganador  Total  \\\n",
       "0        Algarrobo         4932         2118        1   7050   \n",
       "1            Alhue         2323          309        1   2632   \n",
       "2      Alto Biobio         1269          424        1   1693   \n",
       "3  Alto del Carmen         1559          241        1   1800   \n",
       "4    Alto Hospicio        21589         4534        1  26123   \n",
       "\n",
       "   Porcentaje Apruebo  Porcentaje Rechazo  porcentajePobreza  categoria  \\\n",
       "0               0.700               0.300            0.03275          0   \n",
       "1               0.883               0.117            0.06713          0   \n",
       "2               0.750               0.250            0.39734          3   \n",
       "3               0.866               0.134            0.15273          1   \n",
       "4               0.826               0.174            0.07755          0   \n",
       "\n",
       "   Sebastian Piniera Echenique  Alejandro Guillier Alvarez  Votos Nulos  \\\n",
       "0                         4138                        2519           34   \n",
       "1                         1028                        1425           13   \n",
       "2                         1243                         701           47   \n",
       "3                         1066                         847            9   \n",
       "4                         9969                        7466          115   \n",
       "\n",
       "   Votos Blancos  ganador  \n",
       "0              5        0  \n",
       "1              5        1  \n",
       "2             17        0  \n",
       "3              7        0  \n",
       "4             32        0  "
      ],
      "text/html": "<div>\n<style scoped>\n    .dataframe tbody tr th:only-of-type {\n        vertical-align: middle;\n    }\n\n    .dataframe tbody tr th {\n        vertical-align: top;\n    }\n\n    .dataframe thead th {\n        text-align: right;\n    }\n</style>\n<table border=\"1\" class=\"dataframe\">\n  <thead>\n    <tr style=\"text-align: right;\">\n      <th></th>\n      <th>Comuna</th>\n      <th>Apruebo (1)</th>\n      <th>Rechazo (0)</th>\n      <th>Ganador</th>\n      <th>Total</th>\n      <th>Porcentaje Apruebo</th>\n      <th>Porcentaje Rechazo</th>\n      <th>porcentajePobreza</th>\n      <th>categoria</th>\n      <th>Sebastian Piniera Echenique</th>\n      <th>Alejandro Guillier Alvarez</th>\n      <th>Votos Nulos</th>\n      <th>Votos Blancos</th>\n      <th>ganador</th>\n    </tr>\n  </thead>\n  <tbody>\n    <tr>\n      <th>0</th>\n      <td>Algarrobo</td>\n      <td>4932</td>\n      <td>2118</td>\n      <td>1</td>\n      <td>7050</td>\n      <td>0.700</td>\n      <td>0.300</td>\n      <td>0.03275</td>\n      <td>0</td>\n      <td>4138</td>\n      <td>2519</td>\n      <td>34</td>\n      <td>5</td>\n      <td>0</td>\n    </tr>\n    <tr>\n      <th>1</th>\n      <td>Alhue</td>\n      <td>2323</td>\n      <td>309</td>\n      <td>1</td>\n      <td>2632</td>\n      <td>0.883</td>\n      <td>0.117</td>\n      <td>0.06713</td>\n      <td>0</td>\n      <td>1028</td>\n      <td>1425</td>\n      <td>13</td>\n      <td>5</td>\n      <td>1</td>\n    </tr>\n    <tr>\n      <th>2</th>\n      <td>Alto Biobio</td>\n      <td>1269</td>\n      <td>424</td>\n      <td>1</td>\n      <td>1693</td>\n      <td>0.750</td>\n      <td>0.250</td>\n      <td>0.39734</td>\n      <td>3</td>\n      <td>1243</td>\n      <td>701</td>\n      <td>47</td>\n      <td>17</td>\n      <td>0</td>\n    </tr>\n    <tr>\n      <th>3</th>\n      <td>Alto del Carmen</td>\n      <td>1559</td>\n      <td>241</td>\n      <td>1</td>\n      <td>1800</td>\n      <td>0.866</td>\n      <td>0.134</td>\n      <td>0.15273</td>\n      <td>1</td>\n      <td>1066</td>\n      <td>847</td>\n      <td>9</td>\n      <td>7</td>\n      <td>0</td>\n    </tr>\n    <tr>\n      <th>4</th>\n      <td>Alto Hospicio</td>\n      <td>21589</td>\n      <td>4534</td>\n      <td>1</td>\n      <td>26123</td>\n      <td>0.826</td>\n      <td>0.174</td>\n      <td>0.07755</td>\n      <td>0</td>\n      <td>9969</td>\n      <td>7466</td>\n      <td>115</td>\n      <td>32</td>\n      <td>0</td>\n    </tr>\n  </tbody>\n</table>\n</div>"
     },
     "metadata": {},
     "execution_count": 5
    }
   ],
   "source": [
    "general = plebiscitoAR.join(ingresos.set_index(\"comuna\"), on = \"Comuna\")\n",
    "general = general.join(presidencial2da.set_index(\"comuna\"), on=\"Comuna\")\n",
    "general.head()\n"
   ]
  },
  {
   "cell_type": "code",
   "execution_count": 6,
   "metadata": {},
   "outputs": [
    {
     "output_type": "execute_result",
     "data": {
      "text/plain": [
       "{1: 0.4289855072463768,\n",
       " 0: 0.4144927536231884,\n",
       " 2: 0.1246376811594203,\n",
       " 3: 0.028985507246376812,\n",
       " 4: 0.002898550724637681}"
      ]
     },
     "metadata": {},
     "execution_count": 6
    }
   ],
   "source": [
    "## probabilidad categoria ingreso\n",
    "\n",
    "values = general[\"categoria\"].value_counts()\n",
    "categ = {}\n",
    "for i in values.index:\n",
    "    categ[i] = values[i]/comunas.shape[0]\n",
    "categ"
   ]
  },
  {
   "cell_type": "code",
   "execution_count": 7,
   "metadata": {},
   "outputs": [
    {
     "output_type": "stream",
     "name": "stdout",
     "text": [
      "Peso voto por Piñera: -0.0049511739736753935\nPeso voto por Piñera (con -1): -0.012800898671988414\nTiempo de ejecución: 0:00:00.062997\n"
     ]
    }
   ],
   "source": [
    "## probabilidad apruebo que voto por piñera \n",
    "init = datetime.now()\n",
    "apruebo = 1\n",
    "aprobPiniera = 0\n",
    "for i in values.index:\n",
    "    match = general.loc[(general[\"Ganador\"]==apruebo) & (general[\"ganador\"]==piniera2da) & (general[\"categoria\"]==i)]\n",
    "    total = general.loc[(general[\"ganador\"]==piniera2da) & (general[\"categoria\"]==i)]\n",
    "    if(not total.shape[0]):\n",
    "        continue\n",
    "    aprobPiniera += (match.shape[0]/total.shape[0]) * categ[i]\n",
    "    \n",
    "aprobNoPiniera = 0\n",
    "## probabilidad apruebo que no voto por piñera\n",
    "for i in values.index:\n",
    "    match = general.loc[(general[\"Ganador\"]==apruebo) & (general[\"ganador\"]!=piniera2da) & (general[\"categoria\"]==i)]\n",
    "    total = general.loc[(general[\"ganador\"]!=piniera2da) & (general[\"categoria\"]==i)]\n",
    "    if(not total.shape[0]):\n",
    "        continue\n",
    "    aprobNoPiniera += (match.shape[0]/total.shape[0]) * categ[i]\n",
    "\n",
    "## probabilidad rechazo que voto por piñera \n",
    "apruebo = 0\n",
    "rechazoPiniera = 0\n",
    "for i in values.index:\n",
    "    match = general.loc[(general[\"Ganador\"]==apruebo) & (general[\"ganador\"]==piniera2da) & (general[\"categoria\"]==i)]\n",
    "    total = general.loc[(general[\"ganador\"]==piniera2da) & (general[\"categoria\"]==i)]\n",
    "    if(not total.shape[0]):\n",
    "        continue\n",
    "    rechazoPiniera += (match.shape[0]/total.shape[0]) * categ[i]\n",
    "\n",
    "## probabilidad rechazo que no voto por piñera \n",
    "apruebo = 0\n",
    "rechazoNoPiniera = 0\n",
    "for i in values.index:\n",
    "    match = general.loc[(general[\"Ganador\"]==apruebo) & (general[\"ganador\"]!=piniera2da) & (general[\"categoria\"]==i)]\n",
    "    total = general.loc[(general[\"ganador\"]!=piniera2da) & (general[\"categoria\"]==i)]\n",
    "    if(not total.shape[0]):\n",
    "        continue\n",
    "    rechazoNoPiniera += (match.shape[0]/total.shape[0]) * categ[i]\n",
    "\n",
    "meanPiniera = 1*aprobPiniera + 0*rechazoPiniera\n",
    "meanNoPiniera = 1*aprobNoPiniera + 0*rechazoNoPiniera\n",
    "print(f\"Peso voto por Piñera: {meanPiniera - meanNoPiniera}\")\n",
    "meanPiniera = 1*aprobPiniera - 1*rechazoPiniera\n",
    "meanNoPiniera = 1*aprobNoPiniera - 1*rechazoNoPiniera\n",
    "print(f\"Peso voto por Piñera (con -1): {meanPiniera - meanNoPiniera}\")\n",
    "final = datetime.now()\n",
    "print(f\"Tiempo de ejecución: {final-init}\")"
   ]
  },
  {
   "source": [
    "## Cálculo del peso de votar por piñera en la convención Constitucional"
   ],
   "cell_type": "markdown",
   "metadata": {}
  },
  {
   "cell_type": "code",
   "execution_count": 8,
   "metadata": {},
   "outputs": [
    {
     "output_type": "execute_result",
     "data": {
      "text/plain": [
       "            Comuna  Convencion Mixta (1)  Convencion Constitucional (0)  \\\n",
       "0        Algarrobo                  1856                           4754   \n",
       "1            Alhue                   406                           2158   \n",
       "2      Alto Biobio                   424                           1131   \n",
       "3  Alto del Carmen                   278                           1465   \n",
       "4    Alto Hospicio                  4663                          20247   \n",
       "\n",
       "   Columna1  Total  Porcentaje CC  Porcentaje CM  porcentajePobreza  \\\n",
       "0         0   6610          0.281          0.719            0.03275   \n",
       "1         0   2564          0.158          0.842            0.06713   \n",
       "2         0   1555          0.273          0.727            0.39734   \n",
       "3         0   1743          0.159          0.841            0.15273   \n",
       "4         0  24910          0.187          0.813            0.07755   \n",
       "\n",
       "   categoria  Sebastian Piniera Echenique  Alejandro Guillier Alvarez  \\\n",
       "0          0                         4138                        2519   \n",
       "1          0                         1028                        1425   \n",
       "2          3                         1243                         701   \n",
       "3          1                         1066                         847   \n",
       "4          0                         9969                        7466   \n",
       "\n",
       "   Votos Nulos  Votos Blancos  ganador  \n",
       "0           34              5        0  \n",
       "1           13              5        1  \n",
       "2           47             17        0  \n",
       "3            9              7        0  \n",
       "4          115             32        0  "
      ],
      "text/html": "<div>\n<style scoped>\n    .dataframe tbody tr th:only-of-type {\n        vertical-align: middle;\n    }\n\n    .dataframe tbody tr th {\n        vertical-align: top;\n    }\n\n    .dataframe thead th {\n        text-align: right;\n    }\n</style>\n<table border=\"1\" class=\"dataframe\">\n  <thead>\n    <tr style=\"text-align: right;\">\n      <th></th>\n      <th>Comuna</th>\n      <th>Convencion Mixta (1)</th>\n      <th>Convencion Constitucional (0)</th>\n      <th>Columna1</th>\n      <th>Total</th>\n      <th>Porcentaje CC</th>\n      <th>Porcentaje CM</th>\n      <th>porcentajePobreza</th>\n      <th>categoria</th>\n      <th>Sebastian Piniera Echenique</th>\n      <th>Alejandro Guillier Alvarez</th>\n      <th>Votos Nulos</th>\n      <th>Votos Blancos</th>\n      <th>ganador</th>\n    </tr>\n  </thead>\n  <tbody>\n    <tr>\n      <th>0</th>\n      <td>Algarrobo</td>\n      <td>1856</td>\n      <td>4754</td>\n      <td>0</td>\n      <td>6610</td>\n      <td>0.281</td>\n      <td>0.719</td>\n      <td>0.03275</td>\n      <td>0</td>\n      <td>4138</td>\n      <td>2519</td>\n      <td>34</td>\n      <td>5</td>\n      <td>0</td>\n    </tr>\n    <tr>\n      <th>1</th>\n      <td>Alhue</td>\n      <td>406</td>\n      <td>2158</td>\n      <td>0</td>\n      <td>2564</td>\n      <td>0.158</td>\n      <td>0.842</td>\n      <td>0.06713</td>\n      <td>0</td>\n      <td>1028</td>\n      <td>1425</td>\n      <td>13</td>\n      <td>5</td>\n      <td>1</td>\n    </tr>\n    <tr>\n      <th>2</th>\n      <td>Alto Biobio</td>\n      <td>424</td>\n      <td>1131</td>\n      <td>0</td>\n      <td>1555</td>\n      <td>0.273</td>\n      <td>0.727</td>\n      <td>0.39734</td>\n      <td>3</td>\n      <td>1243</td>\n      <td>701</td>\n      <td>47</td>\n      <td>17</td>\n      <td>0</td>\n    </tr>\n    <tr>\n      <th>3</th>\n      <td>Alto del Carmen</td>\n      <td>278</td>\n      <td>1465</td>\n      <td>0</td>\n      <td>1743</td>\n      <td>0.159</td>\n      <td>0.841</td>\n      <td>0.15273</td>\n      <td>1</td>\n      <td>1066</td>\n      <td>847</td>\n      <td>9</td>\n      <td>7</td>\n      <td>0</td>\n    </tr>\n    <tr>\n      <th>4</th>\n      <td>Alto Hospicio</td>\n      <td>4663</td>\n      <td>20247</td>\n      <td>0</td>\n      <td>24910</td>\n      <td>0.187</td>\n      <td>0.813</td>\n      <td>0.07755</td>\n      <td>0</td>\n      <td>9969</td>\n      <td>7466</td>\n      <td>115</td>\n      <td>32</td>\n      <td>0</td>\n    </tr>\n  </tbody>\n</table>\n</div>"
     },
     "metadata": {},
     "execution_count": 8
    }
   ],
   "source": [
    "general = plebiscitoC.join(ingresos.set_index(\"comuna\"), on = \"Comuna\")\n",
    "general = general.join(presidencial2da.set_index(\"comuna\"), on=\"Comuna\")\n",
    "general.head()"
   ]
  },
  {
   "cell_type": "code",
   "execution_count": 9,
   "metadata": {},
   "outputs": [
    {
     "output_type": "stream",
     "name": "stdout",
     "text": [
      "Peso voto por Piñera: 0.013516068052930055\nPeso voto por Piñera (con -1): 0.024133585381222566\nTiempo de ejecución: 0:00:00.056998\n"
     ]
    }
   ],
   "source": [
    "##probabilidad mixta que voto por piñera\n",
    "init = datetime.now()\n",
    "mixta = 1\n",
    "mixtaPiniera = 0\n",
    "for i in values.index:\n",
    "    match = general.loc[(general[\"Columna1\"]==mixta) & (general[\"ganador\"]==piniera2da) & (general[\"categoria\"]==i)]\n",
    "    total = general.loc[(general[\"ganador\"]==piniera2da) & (general[\"categoria\"]==i)]\n",
    "    if(not total.shape[0]):\n",
    "        continue\n",
    "    mixtaPiniera += (match.shape[0]/total.shape[0]) * categ[i]\n",
    "\n",
    "mixtaNoPiniera = 0\n",
    "## probabilidad mixta que no voto por piñera\n",
    "for i in values.index:\n",
    "    match = general.loc[(general[\"Columna1\"]==mixta) & (general[\"ganador\"]!=piniera2da) & (general[\"categoria\"]==i)]\n",
    "    total = general.loc[(general[\"ganador\"]!=piniera2da) & (general[\"categoria\"]==i)]\n",
    "    if(not total.shape[0]):\n",
    "        continue\n",
    "    mixtaNoPiniera += (match.shape[0]/total.shape[0]) * categ[i]\n",
    "\n",
    "## probabilidad no mixta que voto por piñera \n",
    "mixta = 0\n",
    "noMixtaPiniera = 0\n",
    "for i in values.index:\n",
    "    match = general.loc[(general[\"Columna1\"]==mixta) & (general[\"ganador\"]==piniera2da) & (general[\"categoria\"]==i)]\n",
    "    total = general.loc[(general[\"ganador\"]==piniera2da) & (general[\"categoria\"]==i)]\n",
    "    if(not total.shape[0]):\n",
    "        continue\n",
    "    noMixtaPiniera += (match.shape[0]/total.shape[0]) * categ[i]\n",
    "\n",
    "## probabilidad no mixta que no voto por piñera \n",
    "\n",
    "noMixtaNoPiniera = 0\n",
    "for i in values.index:\n",
    "    match = general.loc[(general[\"Columna1\"]==mixta) & (general[\"ganador\"]!=piniera2da) & (general[\"categoria\"]==i)]\n",
    "    total = general.loc[(general[\"ganador\"]!=piniera2da) & (general[\"categoria\"]==i)]\n",
    "    if(not total.shape[0]):\n",
    "        continue\n",
    "    noMixtaNoPiniera += (match.shape[0]/total.shape[0]) * categ[i]\n",
    "\n",
    "meanPiniera = 1*mixtaPiniera + 0*noMixtaPiniera\n",
    "meanNoPiniera = 1*mixtaNoPiniera + 0*noMixtaNoPiniera\n",
    "print(f\"Peso voto por Piñera: {meanPiniera - meanNoPiniera}\")\n",
    "meanPiniera = 1*mixtaPiniera - 1*noMixtaPiniera\n",
    "meanNoPiniera = 1*mixtaNoPiniera - 1*noMixtaNoPiniera\n",
    "print(f\"Peso voto por Piñera (con -1): {meanPiniera - meanNoPiniera}\")\n",
    "final = datetime.now()\n",
    "print(f\"Tiempo de ejecución: {final-init}\")"
   ]
  },
  {
   "source": [
    "## Cálculo del peso por votar piñera en primera vuelta"
   ],
   "cell_type": "markdown",
   "metadata": {}
  },
  {
   "cell_type": "code",
   "execution_count": 15,
   "metadata": {},
   "outputs": [],
   "source": [
    "general = plebiscitoAR.join(ingresos.set_index(\"comuna\"), on = \"Comuna\")\n",
    "general = general.join(presidencial2da.set_index(\"comuna\").add_suffix(\"2\"), on=\"Comuna\")\n",
    "general = general.join(presidencial1ra.set_index(\"comuna\"), on = \"Comuna\")"
   ]
  },
  {
   "cell_type": "code",
   "execution_count": 23,
   "metadata": {},
   "outputs": [
    {
     "output_type": "execute_result",
     "data": {
      "text/plain": [
       "{2: 0.8840579710144928,\n",
       " 3: 0.10434782608695652,\n",
       " 4: 0.008695652173913044,\n",
       " 0: 0.002898550724637681}"
      ]
     },
     "metadata": {},
     "execution_count": 23
    }
   ],
   "source": [
    "values = general[\"ganador\"].value_counts()\n",
    "ganador1 = {}\n",
    "for i in values.index:\n",
    "    ganador1[i] = values[i]/comunas.shape[0]\n",
    "ganador1"
   ]
  },
  {
   "cell_type": "code",
   "execution_count": 17,
   "metadata": {},
   "outputs": [
    {
     "output_type": "execute_result",
     "data": {
      "text/plain": [
       "{0: 0.7391304347826086, 1: 0.2608695652173913}"
      ]
     },
     "metadata": {},
     "execution_count": 17
    }
   ],
   "source": [
    "values = general[\"ganador2\"].value_counts()\n",
    "ganador2 = {}\n",
    "for i in values.index:\n",
    "    ganador2[i] = values[i]/comunas.shape[0]\n",
    "ganador2"
   ]
  },
  {
   "cell_type": "code",
   "execution_count": 20,
   "metadata": {},
   "outputs": [
    {
     "output_type": "stream",
     "name": "stdout",
     "text": [
      "Peso voto por Piñera: 0.2413194579457913\nPeso voto por Piñera (con -1): 0.22651999251429972\nTiempo de ejecución: 0:00:00.038995\n"
     ]
    }
   ],
   "source": [
    "\n",
    "init = datetime.now()\n",
    "ganador2Cond1 = {}\n",
    "for i in ganador2:\n",
    "    match = general.loc[(general[\"ganador2\"]==i) & (general[\"ganador\"]==piniera1era)]\n",
    "    total = general.loc[general[\"ganador\"]==piniera1era]\n",
    "    if(not total.shape[0]):\n",
    "        continue\n",
    "    ganador2Cond1[i] = match.shape[0]/total.shape[0]\n",
    "\n",
    "\n",
    "apruebo = 1\n",
    "aprobPiniera = 0\n",
    "for i in values.index:\n",
    "    for j in ganador2:\n",
    "        match = general.loc[(general[\"Ganador\"]==apruebo) & (general[\"ganador\"]==piniera1era) & (general[\"categoria\"]==i) & (general[\"ganador2\"]==j)]\n",
    "        total = general.loc[(general[\"ganador\"]==piniera1era) & (general[\"categoria\"]==i) & (general[\"ganador2\"]==j)]\n",
    "        if(not total.shape[0]):\n",
    "            continue\n",
    "        aprobPiniera += (match.shape[0]/total.shape[0]) * categ[i] * ganador2[j] * ganador2Cond1[j]\n",
    "\n",
    "aprobNoPiniera = 0\n",
    "## probabilidad apruebo que no voto por piñera\n",
    "for i in values.index:\n",
    "    for j in ganador2:\n",
    "        match = general.loc[(general[\"Ganador\"]==apruebo) & (general[\"ganador\"]!=piniera1era) & (general[\"categoria\"]==i) & (general[\"ganador2\"]==j)]\n",
    "        total = general.loc[(general[\"ganador\"]!=piniera1era) & (general[\"categoria\"]==i) & (general[\"ganador2\"]==j)]\n",
    "        if(not total.shape[0]):\n",
    "            continue\n",
    "        aprobNoPiniera += (match.shape[0]/total.shape[0]) * categ[i] * ganador2[j] * ganador2Cond1[j]\n",
    "\n",
    "\n",
    "## probabilidad rechazo que voto por piñera \n",
    "apruebo = 0\n",
    "rechazoPiniera = 0\n",
    "for i in values.index:\n",
    "    for j in ganador2:\n",
    "        match = general.loc[(general[\"Ganador\"]==apruebo) & (general[\"ganador\"]==piniera1era) & (general[\"categoria\"]==i) & (general[\"ganador2\"]==j)]\n",
    "        total = general.loc[(general[\"ganador\"]==piniera1era) & (general[\"categoria\"]==i) & (general[\"ganador2\"]==j)]\n",
    "        if(not total.shape[0]):\n",
    "            continue\n",
    "        rechazoPiniera += (match.shape[0]/total.shape[0]) * categ[i] * ganador2[j] * ganador2Cond1[j]\n",
    "\n",
    "\n",
    "## probabilidad rechazo que no voto por piñera \n",
    "apruebo = 0\n",
    "rechazoNoPiniera = 0\n",
    "for i in values.index:\n",
    "    for j in ganador2:\n",
    "        match = general.loc[(general[\"Ganador\"]==apruebo) & (general[\"ganador\"]!=piniera1era) & (general[\"categoria\"]==i) & (general[\"ganador2\"]==j)]\n",
    "        total = general.loc[(general[\"ganador\"]!=piniera1era) & (general[\"categoria\"]==i) & (general[\"ganador2\"]==j)]\n",
    "        if(not total.shape[0]):\n",
    "            continue\n",
    "        rechazoPiniera += (match.shape[0]/total.shape[0]) * categ[i] * ganador2[j] * ganador2Cond1[j]\n",
    "\n",
    "meanPiniera = 1*aprobPiniera + 0*rechazoPiniera\n",
    "meanNoPiniera = 1*aprobNoPiniera + 0*rechazoNoPiniera\n",
    "print(f\"Peso voto por Piñera: {meanPiniera - meanNoPiniera}\")\n",
    "meanPiniera = 1*aprobPiniera - 1*rechazoPiniera\n",
    "meanNoPiniera = 1*aprobNoPiniera - 1*rechazoNoPiniera\n",
    "print(f\"Peso voto por Piñera (con -1): {meanPiniera - meanNoPiniera}\")\n",
    "final = datetime.now()\n",
    "print(f\"Tiempo de ejecución: {final-init}\")"
   ]
  },
  {
   "source": [
    "## Consulta peso de Piñera en 1era sin causalidad de la 2da vuelta"
   ],
   "cell_type": "markdown",
   "metadata": {}
  },
  {
   "cell_type": "code",
   "execution_count": 21,
   "metadata": {},
   "outputs": [
    {
     "output_type": "execute_result",
     "data": {
      "text/plain": [
       "            Comuna  Apruebo (1)  Rechazo (0)  Ganador  Total  \\\n",
       "0        Algarrobo         4932         2118        1   7050   \n",
       "1            Alhue         2323          309        1   2632   \n",
       "2      Alto Biobio         1269          424        1   1693   \n",
       "3  Alto del Carmen         1559          241        1   1800   \n",
       "4    Alto Hospicio        21589         4534        1  26123   \n",
       "\n",
       "   Porcentaje Apruebo  Porcentaje Rechazo  porcentajePobreza  categoria  \\\n",
       "0               0.700               0.300            0.03275          0   \n",
       "1               0.883               0.117            0.06713          0   \n",
       "2               0.750               0.250            0.39734          3   \n",
       "3               0.866               0.134            0.15273          1   \n",
       "4               0.826               0.174            0.07755          0   \n",
       "\n",
       "   Carolina Goic Boroevic  Jose Antonio Kast Rist  \\\n",
       "0                     405                     338   \n",
       "1                     222                      62   \n",
       "2                      80                      52   \n",
       "3                     104                      68   \n",
       "4                     868                    2070   \n",
       "\n",
       "   Sebastian Piniera Echenique  Alejandro Guillier Alvarez  \\\n",
       "0                         2974                        1170   \n",
       "1                          731                         571   \n",
       "2                          923                         419   \n",
       "3                          800                         476   \n",
       "4                         5552                        3630   \n",
       "\n",
       "   Beatriz Sanchez Munioz  Marco Enriquez-ominami Gumucio  \\\n",
       "0                    1099                             247   \n",
       "1                     440                             116   \n",
       "2                     201                              53   \n",
       "3                     296                             123   \n",
       "4                    4492                            1743   \n",
       "\n",
       "   Eduardo Artes Brichetti  Alejandro Navarro Brain  Votos Nulos  \\\n",
       "0                       24                       12           36   \n",
       "1                       12                        8           24   \n",
       "2                       10                       32           68   \n",
       "3                       15                        6           15   \n",
       "4                       82                       54          117   \n",
       "\n",
       "   Votos Blancos  ganador  \n",
       "0             24        2  \n",
       "1             17        2  \n",
       "2             38        2  \n",
       "3             24        2  \n",
       "4             76        2  "
      ],
      "text/html": "<div>\n<style scoped>\n    .dataframe tbody tr th:only-of-type {\n        vertical-align: middle;\n    }\n\n    .dataframe tbody tr th {\n        vertical-align: top;\n    }\n\n    .dataframe thead th {\n        text-align: right;\n    }\n</style>\n<table border=\"1\" class=\"dataframe\">\n  <thead>\n    <tr style=\"text-align: right;\">\n      <th></th>\n      <th>Comuna</th>\n      <th>Apruebo (1)</th>\n      <th>Rechazo (0)</th>\n      <th>Ganador</th>\n      <th>Total</th>\n      <th>Porcentaje Apruebo</th>\n      <th>Porcentaje Rechazo</th>\n      <th>porcentajePobreza</th>\n      <th>categoria</th>\n      <th>Carolina Goic Boroevic</th>\n      <th>Jose Antonio Kast Rist</th>\n      <th>Sebastian Piniera Echenique</th>\n      <th>Alejandro Guillier Alvarez</th>\n      <th>Beatriz Sanchez Munioz</th>\n      <th>Marco Enriquez-ominami Gumucio</th>\n      <th>Eduardo Artes Brichetti</th>\n      <th>Alejandro Navarro Brain</th>\n      <th>Votos Nulos</th>\n      <th>Votos Blancos</th>\n      <th>ganador</th>\n    </tr>\n  </thead>\n  <tbody>\n    <tr>\n      <th>0</th>\n      <td>Algarrobo</td>\n      <td>4932</td>\n      <td>2118</td>\n      <td>1</td>\n      <td>7050</td>\n      <td>0.700</td>\n      <td>0.300</td>\n      <td>0.03275</td>\n      <td>0</td>\n      <td>405</td>\n      <td>338</td>\n      <td>2974</td>\n      <td>1170</td>\n      <td>1099</td>\n      <td>247</td>\n      <td>24</td>\n      <td>12</td>\n      <td>36</td>\n      <td>24</td>\n      <td>2</td>\n    </tr>\n    <tr>\n      <th>1</th>\n      <td>Alhue</td>\n      <td>2323</td>\n      <td>309</td>\n      <td>1</td>\n      <td>2632</td>\n      <td>0.883</td>\n      <td>0.117</td>\n      <td>0.06713</td>\n      <td>0</td>\n      <td>222</td>\n      <td>62</td>\n      <td>731</td>\n      <td>571</td>\n      <td>440</td>\n      <td>116</td>\n      <td>12</td>\n      <td>8</td>\n      <td>24</td>\n      <td>17</td>\n      <td>2</td>\n    </tr>\n    <tr>\n      <th>2</th>\n      <td>Alto Biobio</td>\n      <td>1269</td>\n      <td>424</td>\n      <td>1</td>\n      <td>1693</td>\n      <td>0.750</td>\n      <td>0.250</td>\n      <td>0.39734</td>\n      <td>3</td>\n      <td>80</td>\n      <td>52</td>\n      <td>923</td>\n      <td>419</td>\n      <td>201</td>\n      <td>53</td>\n      <td>10</td>\n      <td>32</td>\n      <td>68</td>\n      <td>38</td>\n      <td>2</td>\n    </tr>\n    <tr>\n      <th>3</th>\n      <td>Alto del Carmen</td>\n      <td>1559</td>\n      <td>241</td>\n      <td>1</td>\n      <td>1800</td>\n      <td>0.866</td>\n      <td>0.134</td>\n      <td>0.15273</td>\n      <td>1</td>\n      <td>104</td>\n      <td>68</td>\n      <td>800</td>\n      <td>476</td>\n      <td>296</td>\n      <td>123</td>\n      <td>15</td>\n      <td>6</td>\n      <td>15</td>\n      <td>24</td>\n      <td>2</td>\n    </tr>\n    <tr>\n      <th>4</th>\n      <td>Alto Hospicio</td>\n      <td>21589</td>\n      <td>4534</td>\n      <td>1</td>\n      <td>26123</td>\n      <td>0.826</td>\n      <td>0.174</td>\n      <td>0.07755</td>\n      <td>0</td>\n      <td>868</td>\n      <td>2070</td>\n      <td>5552</td>\n      <td>3630</td>\n      <td>4492</td>\n      <td>1743</td>\n      <td>82</td>\n      <td>54</td>\n      <td>117</td>\n      <td>76</td>\n      <td>2</td>\n    </tr>\n  </tbody>\n</table>\n</div>"
     },
     "metadata": {},
     "execution_count": 21
    }
   ],
   "source": [
    "general = plebiscitoAR.join(ingresos.set_index(\"comuna\"), on = \"Comuna\")\n",
    "general = general.join(presidencial1ra.set_index(\"comuna\"), on=\"Comuna\")\n",
    "general.head()"
   ]
  },
  {
   "cell_type": "code",
   "execution_count": 22,
   "metadata": {},
   "outputs": [
    {
     "output_type": "stream",
     "name": "stdout",
     "text": [
      "Peso voto por Piñera: -0.4115125535823638\nPeso voto por Piñera (con -1): -0.3940395999183508\nTiempo de ejecución: 0:00:00.019999\n"
     ]
    }
   ],
   "source": [
    "## probabilidad apruebo que voto por piñera \n",
    "init = datetime.now()\n",
    "apruebo = 1\n",
    "aprobPiniera = 0\n",
    "for i in values.index:\n",
    "    match = general.loc[(general[\"Ganador\"]==apruebo) & (general[\"ganador\"]==piniera2da) & (general[\"categoria\"]==i)]\n",
    "    total = general.loc[(general[\"ganador\"]==piniera2da) & (general[\"categoria\"]==i)]\n",
    "    if(not total.shape[0]):\n",
    "        continue\n",
    "    aprobPiniera += (match.shape[0]/total.shape[0]) * categ[i]\n",
    "    \n",
    "aprobNoPiniera = 0\n",
    "## probabilidad apruebo que no voto por piñera\n",
    "for i in values.index:\n",
    "    match = general.loc[(general[\"Ganador\"]==apruebo) & (general[\"ganador\"]!=piniera2da) & (general[\"categoria\"]==i)]\n",
    "    total = general.loc[(general[\"ganador\"]!=piniera2da) & (general[\"categoria\"]==i)]\n",
    "    if(not total.shape[0]):\n",
    "        continue\n",
    "    aprobNoPiniera += (match.shape[0]/total.shape[0]) * categ[i]\n",
    "\n",
    "## probabilidad rechazo que voto por piñera \n",
    "apruebo = 0\n",
    "rechazoPiniera = 0\n",
    "for i in values.index:\n",
    "    match = general.loc[(general[\"Ganador\"]==apruebo) & (general[\"ganador\"]==piniera2da) & (general[\"categoria\"]==i)]\n",
    "    total = general.loc[(general[\"ganador\"]==piniera2da) & (general[\"categoria\"]==i)]\n",
    "    if(not total.shape[0]):\n",
    "        continue\n",
    "    rechazoPiniera += (match.shape[0]/total.shape[0]) * categ[i]\n",
    "\n",
    "## probabilidad rechazo que no voto por piñera \n",
    "apruebo = 0\n",
    "rechazoNoPiniera = 0\n",
    "for i in values.index:\n",
    "    match = general.loc[(general[\"Ganador\"]==apruebo) & (general[\"ganador\"]!=piniera2da) & (general[\"categoria\"]==i)]\n",
    "    total = general.loc[(general[\"ganador\"]!=piniera2da) & (general[\"categoria\"]==i)]\n",
    "    if(not total.shape[0]):\n",
    "        continue\n",
    "    rechazoNoPiniera += (match.shape[0]/total.shape[0]) * categ[i]\n",
    "\n",
    "meanPiniera = 1*aprobPiniera + 0*rechazoPiniera\n",
    "meanNoPiniera = 1*aprobNoPiniera + 0*rechazoNoPiniera\n",
    "print(f\"Peso voto por Piñera: {meanPiniera - meanNoPiniera}\")\n",
    "meanPiniera = 1*aprobPiniera - 1*rechazoPiniera\n",
    "meanNoPiniera = 1*aprobNoPiniera - 1*rechazoNoPiniera\n",
    "print(f\"Peso voto por Piñera (con -1): {meanPiniera - meanNoPiniera}\")\n",
    "final = datetime.now()\n",
    "print(f\"Tiempo de ejecución: {final-init}\")"
   ]
  },
  {
   "cell_type": "code",
   "execution_count": null,
   "metadata": {},
   "outputs": [],
   "source": []
  }
 ]
}